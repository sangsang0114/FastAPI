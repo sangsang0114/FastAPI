{
 "cells": [
  {
   "cell_type": "code",
   "execution_count": 1,
   "metadata": {},
   "outputs": [
    {
     "name": "stdout",
     "output_type": "stream",
     "text": [
      "WARNING:tensorflow:From C:\\Users\\admin\\AppData\\Roaming\\Python\\Python311\\site-packages\\keras\\src\\losses.py:2976: The name tf.losses.sparse_softmax_cross_entropy is deprecated. Please use tf.compat.v1.losses.sparse_softmax_cross_entropy instead.\n",
      "\n"
     ]
    }
   ],
   "source": [
    "import option as opt\n",
    "import data\n",
    "from keras.models import load_model\n",
    "from konlpy.tag import Okt\n",
    "import os\n",
    "\n",
    "op = opt.Options()\n",
    "twitter = Okt() \n",
    "\n",
    "tokenizer = data.get_tokenizer()"
   ]
  },
  {
   "cell_type": "code",
   "execution_count": 2,
   "metadata": {},
   "outputs": [],
   "source": [
    "def predict_o(X_nouns): \n",
    "    model = \"\"\n",
    "    if os.path.exists(op.model_o) :\n",
    "        model = load_model(op.model_o)\n",
    "    return model.predict(data.make_onehot(tokenizer,[X_nouns]))\n",
    "\n",
    "def predict_e(X_nouns):\n",
    "    model = \"\"\n",
    "    if os.path.exists(op.model_e) :\n",
    "        model = load_model(op.model_e)\n",
    "    return model.predict(data.make_word_seq(tokenizer,[X_nouns]))\n"
   ]
  },
  {
   "cell_type": "code",
   "execution_count": 3,
   "metadata": {},
   "outputs": [],
   "source": [
    "def main() :\n",
    "    X_test = input(\"신문기사를 입력하세요\")\n",
    "    X_nouns = twitter.nouns(X_test)\n",
    "\n",
    "\n",
    "    #원 핫 인코딩으로 예측\n",
    "    result = predict_o( X_nouns )\n",
    "    print(\"원 핫 인코딩으로 예측 ==>\",result)\n",
    "    if result < 0.5 :\n",
    "        print( \"증권\")\n",
    "    else :\n",
    "         print(\"부동산\")\n",
    "\n",
    "\n",
    "    #임배딩으로 예측\n",
    "    result = predict_e( X_nouns )\n",
    "    print(\"임배딩으로 예측  ==>\",result)\n",
    "    if result < 0.5 :\n",
    "        print( \"증권\")\n",
    "    else :\n",
    "         print(\"부동산\")\n"
   ]
  },
  {
   "cell_type": "code",
   "execution_count": 4,
   "metadata": {},
   "outputs": [
    {
     "name": "stdout",
     "output_type": "stream",
     "text": [
      "신문기사를 입력하세요강남 아파트 재건축\n",
      "WARNING:tensorflow:From C:\\Users\\admin\\AppData\\Roaming\\Python\\Python311\\site-packages\\keras\\src\\backend.py:1398: The name tf.executing_eagerly_outside_functions is deprecated. Please use tf.compat.v1.executing_eagerly_outside_functions instead.\n",
      "\n",
      "1/1 [==============================] - 0s 84ms/step\n",
      "원 핫 인코딩으로 예측 ==> [[0.9990678]]\n",
      "부동산\n",
      "1/1 [==============================] - 0s 73ms/step\n",
      "임배딩으로 예측  ==> [[0.8076448]]\n",
      "부동산\n"
     ]
    }
   ],
   "source": [
    "if __name__ == '__main__':\n",
    "    main()"
   ]
  },
  {
   "cell_type": "code",
   "execution_count": null,
   "metadata": {},
   "outputs": [],
   "source": []
  }
 ],
 "metadata": {
  "kernelspec": {
   "display_name": "Python 3 (ipykernel)",
   "language": "python",
   "name": "python3"
  },
  "language_info": {
   "codemirror_mode": {
    "name": "ipython",
    "version": 3
   },
   "file_extension": ".py",
   "mimetype": "text/x-python",
   "name": "python",
   "nbconvert_exporter": "python",
   "pygments_lexer": "ipython3",
   "version": "3.11.5"
  }
 },
 "nbformat": 4,
 "nbformat_minor": 2
}
